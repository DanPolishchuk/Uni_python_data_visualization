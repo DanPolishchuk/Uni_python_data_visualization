{
 "cells": [
  {
   "cell_type": "code",
   "execution_count": 1,
   "id": "55713d15-c973-47a7-b380-d73db97239f6",
   "metadata": {},
   "outputs": [],
   "source": [
    "from pandas import read_csv"
   ]
  },
  {
   "cell_type": "code",
   "execution_count": 2,
   "id": "987526a9-8aec-4b2b-a94b-9b93f8a1bc1e",
   "metadata": {},
   "outputs": [
    {
     "data": {
      "text/html": [
       "<div>\n",
       "<style scoped>\n",
       "    .dataframe tbody tr th:only-of-type {\n",
       "        vertical-align: middle;\n",
       "    }\n",
       "\n",
       "    .dataframe tbody tr th {\n",
       "        vertical-align: top;\n",
       "    }\n",
       "\n",
       "    .dataframe thead th {\n",
       "        text-align: right;\n",
       "    }\n",
       "</style>\n",
       "<table border=\"1\" class=\"dataframe\">\n",
       "  <thead>\n",
       "    <tr style=\"text-align: right;\">\n",
       "      <th></th>\n",
       "      <th>Name</th>\n",
       "      <th>Author</th>\n",
       "      <th>User Rating</th>\n",
       "      <th>Reviews</th>\n",
       "      <th>Price</th>\n",
       "      <th>Year</th>\n",
       "      <th>Genre</th>\n",
       "    </tr>\n",
       "  </thead>\n",
       "  <tbody>\n",
       "    <tr>\n",
       "      <th>0</th>\n",
       "      <td>10-Day Green Smoothie Cleanse</td>\n",
       "      <td>JJ Smith</td>\n",
       "      <td>4.7</td>\n",
       "      <td>17350</td>\n",
       "      <td>8</td>\n",
       "      <td>2016</td>\n",
       "      <td>Non Fiction</td>\n",
       "    </tr>\n",
       "    <tr>\n",
       "      <th>1</th>\n",
       "      <td>11/22/63: A Novel</td>\n",
       "      <td>Stephen King</td>\n",
       "      <td>4.6</td>\n",
       "      <td>2052</td>\n",
       "      <td>22</td>\n",
       "      <td>2011</td>\n",
       "      <td>Fiction</td>\n",
       "    </tr>\n",
       "    <tr>\n",
       "      <th>2</th>\n",
       "      <td>12 Rules for Life: An Antidote to Chaos</td>\n",
       "      <td>Jordan B. Peterson</td>\n",
       "      <td>4.7</td>\n",
       "      <td>18979</td>\n",
       "      <td>15</td>\n",
       "      <td>2018</td>\n",
       "      <td>Non Fiction</td>\n",
       "    </tr>\n",
       "    <tr>\n",
       "      <th>3</th>\n",
       "      <td>1984 (Signet Classics)</td>\n",
       "      <td>George Orwell</td>\n",
       "      <td>4.7</td>\n",
       "      <td>21424</td>\n",
       "      <td>6</td>\n",
       "      <td>2017</td>\n",
       "      <td>Fiction</td>\n",
       "    </tr>\n",
       "    <tr>\n",
       "      <th>4</th>\n",
       "      <td>5,000 Awesome Facts (About Everything!) (Natio...</td>\n",
       "      <td>National Geographic Kids</td>\n",
       "      <td>4.8</td>\n",
       "      <td>7665</td>\n",
       "      <td>12</td>\n",
       "      <td>2019</td>\n",
       "      <td>Non Fiction</td>\n",
       "    </tr>\n",
       "    <tr>\n",
       "      <th>5</th>\n",
       "      <td>A Dance with Dragons (A Song of Ice and Fire)</td>\n",
       "      <td>George R. R. Martin</td>\n",
       "      <td>4.4</td>\n",
       "      <td>12643</td>\n",
       "      <td>11</td>\n",
       "      <td>2011</td>\n",
       "      <td>Fiction</td>\n",
       "    </tr>\n",
       "    <tr>\n",
       "      <th>6</th>\n",
       "      <td>A Game of Thrones / A Clash of Kings / A Storm...</td>\n",
       "      <td>George R. R. Martin</td>\n",
       "      <td>4.7</td>\n",
       "      <td>19735</td>\n",
       "      <td>30</td>\n",
       "      <td>2014</td>\n",
       "      <td>Fiction</td>\n",
       "    </tr>\n",
       "    <tr>\n",
       "      <th>7</th>\n",
       "      <td>A Gentleman in Moscow: A Novel</td>\n",
       "      <td>Amor Towles</td>\n",
       "      <td>4.7</td>\n",
       "      <td>19699</td>\n",
       "      <td>15</td>\n",
       "      <td>2017</td>\n",
       "      <td>Fiction</td>\n",
       "    </tr>\n",
       "    <tr>\n",
       "      <th>8</th>\n",
       "      <td>A Higher Loyalty: Truth, Lies, and Leadership</td>\n",
       "      <td>James Comey</td>\n",
       "      <td>4.7</td>\n",
       "      <td>5983</td>\n",
       "      <td>3</td>\n",
       "      <td>2018</td>\n",
       "      <td>Non Fiction</td>\n",
       "    </tr>\n",
       "    <tr>\n",
       "      <th>9</th>\n",
       "      <td>A Man Called Ove: A Novel</td>\n",
       "      <td>Fredrik Backman</td>\n",
       "      <td>4.6</td>\n",
       "      <td>23848</td>\n",
       "      <td>8</td>\n",
       "      <td>2016</td>\n",
       "      <td>Fiction</td>\n",
       "    </tr>\n",
       "  </tbody>\n",
       "</table>\n",
       "</div>"
      ],
      "text/plain": [
       "                                                Name   \n",
       "0                      10-Day Green Smoothie Cleanse  \\\n",
       "1                                  11/22/63: A Novel   \n",
       "2            12 Rules for Life: An Antidote to Chaos   \n",
       "3                             1984 (Signet Classics)   \n",
       "4  5,000 Awesome Facts (About Everything!) (Natio...   \n",
       "5      A Dance with Dragons (A Song of Ice and Fire)   \n",
       "6  A Game of Thrones / A Clash of Kings / A Storm...   \n",
       "7                     A Gentleman in Moscow: A Novel   \n",
       "8      A Higher Loyalty: Truth, Lies, and Leadership   \n",
       "9                          A Man Called Ove: A Novel   \n",
       "\n",
       "                     Author  User Rating  Reviews  Price  Year        Genre  \n",
       "0                  JJ Smith          4.7    17350      8  2016  Non Fiction  \n",
       "1              Stephen King          4.6     2052     22  2011      Fiction  \n",
       "2        Jordan B. Peterson          4.7    18979     15  2018  Non Fiction  \n",
       "3             George Orwell          4.7    21424      6  2017      Fiction  \n",
       "4  National Geographic Kids          4.8     7665     12  2019  Non Fiction  \n",
       "5       George R. R. Martin          4.4    12643     11  2011      Fiction  \n",
       "6       George R. R. Martin          4.7    19735     30  2014      Fiction  \n",
       "7               Amor Towles          4.7    19699     15  2017      Fiction  \n",
       "8               James Comey          4.7     5983      3  2018  Non Fiction  \n",
       "9           Fredrik Backman          4.6    23848      8  2016      Fiction  "
      ]
     },
     "execution_count": 2,
     "metadata": {},
     "output_type": "execute_result"
    }
   ],
   "source": [
    "#1. Прочитайте csv файл (метод read_csv)\n",
    "file = \"bestsellers with categories.csv\"\n",
    "df = read_csv(file, encoding=\"latin1\")\n",
    "\n",
    "#2. Виведіть перші 10 рядків (метод head)\n",
    "df.head(10)"
   ]
  },
  {
   "cell_type": "code",
   "execution_count": 3,
   "id": "a0bf3006-27e8-4119-85c8-82d0d5f49653",
   "metadata": {},
   "outputs": [
    {
     "name": "stdout",
     "output_type": "stream",
     "text": [
      "Dataset gives us information about 550 books\n"
     ]
    }
   ],
   "source": [
    "#3.\tВиведіть розміри датасету (метод shape)\n",
    "shape = df.shape\n",
    "print(f\"Dataset gives us information about {shape[0]} books\")"
   ]
  },
  {
   "cell_type": "code",
   "execution_count": 4,
   "id": "38d48ac0-abdd-44e3-bc50-8ca04ee37feb",
   "metadata": {},
   "outputs": [],
   "source": [
    "#4.\tЗмініть назви всіх колонок: назва з маленької букви, без пробілів через підкреслення.\n",
    "df.columns = ['name', 'author', 'user_rating', 'reviews', 'price', 'year', 'genre']"
   ]
  },
  {
   "cell_type": "code",
   "execution_count": 5,
   "id": "952a8a00-7ebb-45f6-94be-30c55a0ccb7a",
   "metadata": {},
   "outputs": [
    {
     "name": "stdout",
     "output_type": "stream",
     "text": [
      "name           0\n",
      "author         0\n",
      "user_rating    0\n",
      "reviews        0\n",
      "price          0\n",
      "year           0\n",
      "genre          0\n",
      "dtype: int64\n",
      "\n",
      "There are no missing values in the dataset\n"
     ]
    }
   ],
   "source": [
    "#5.\tВивести кількість пропусків у кожному стовпчику.\n",
    "\n",
    "print(df.isna().sum())\n",
    "print(\"\\nThere are no missing values in the dataset\")"
   ]
  },
  {
   "cell_type": "code",
   "execution_count": 6,
   "id": "36c858d2-5c3d-4ed2-b986-d0a90c4f1c56",
   "metadata": {},
   "outputs": [
    {
     "name": "stdout",
     "output_type": "stream",
     "text": [
      "Unique genres are: ['Non Fiction' 'Fiction']\n"
     ]
    }
   ],
   "source": [
    "#6.\tЗа допомогою методу unique  перевірте. Які є унікальні жанри в стовпці genre \n",
    "\n",
    "unique_genre = df[\"genre\"].unique()\n",
    "\n",
    "print(f\"Unique genres are: {unique_genre}\")"
   ]
  },
  {
   "cell_type": "code",
   "execution_count": 7,
   "id": "0dd512f8-ab6e-4544-a655-b18caead9af7",
   "metadata": {},
   "outputs": [
    {
     "name": "stdout",
     "output_type": "stream",
     "text": [
      "Max price: 105\n",
      "Min price: 0\n",
      "Mean price: 13.1\n",
      "Median price: 11.0\n"
     ]
    }
   ],
   "source": [
    "#7.\tВизначте максимальну, мінімальну, медіанну ціну за допомогою методів  max, min, mean, median\n",
    "\n",
    "prices = df[\"price\"]\n",
    "max_price = prices.max()\n",
    "min_price = prices.min()\n",
    "mean_price = prices.mean()\n",
    "median_price = prices.median()\n",
    "\n",
    "print(f\"Max price: {max_price}\\nMin price: {min_price}\\nMean price: {mean_price}\\nMedian price: {median_price}\")"
   ]
  },
  {
   "cell_type": "code",
   "execution_count": 8,
   "id": "8ccf6227-ec84-427b-81d9-76c6e005f6af",
   "metadata": {},
   "outputs": [
    {
     "name": "stdout",
     "output_type": "stream",
     "text": [
      "The highest user rating: 4.9\n",
      "Amount of books with this rating: 52\n",
      "The most reviewed book: Where the Crawdads Sing\n",
      "The most expensive book among books released in 2010: Publication Manual of the American Psychological Association, 6th Edition\n",
      "Amount of books released in 2012 with 'Fiction' genre: 21\n",
      "Amount of books with 4.9 user rating released in 2010/2011: 1\n"
     ]
    }
   ],
   "source": [
    "#8.\tВиконайте наступні завдання з пошуку і сортування даних\n",
    "#Який рейтинг у датасеті найвищий? \n",
    "#Скільки книг мають такий рейтинг? \n",
    "#Яка книга має найбільше відгуків? \n",
    "#З тих книг, що потрапили до Топ-50 у 2010 році, яка книга найдорожча ?\n",
    "#Скільки книг жанру Fiction потрапили до Топ-50 у 2012 році \n",
    "#Скільки книг з рейтингом 4.9 потрапило до рейтингу у 2010 та 2011 роках (використовуйте | або метод isin)? \n",
    "\n",
    "\n",
    "highest_rating = df[\"user_rating\"].max()\n",
    "amount_of_books = len(df[df[\"user_rating\"] == highest_rating])\n",
    "the_most_reviews = df.loc[df[\"reviews\"].idxmax()][\"name\"]\n",
    "the_most_expensive = df.loc[df[df[\"year\"] == 2010][\"price\"].idxmax()][\"name\"]\n",
    "fiction_amount = len(df[(df[\"genre\"] == \"Fiction\") & (df[\"year\"] == 2012)])\n",
    "amount_of_books_2010_2012 = len(df[((df[\"year\"] == 2010) | (df[\"year\"] == 2011)) & (df[\"user_rating\"] == 4.9)])\n",
    "\n",
    "print(f\"The highest user rating: {highest_rating}\\nAmount of books with this rating: {amount_of_books}\\nThe most reviewed book: {the_most_reviews}\\nThe most expensive book among books released in 2010: {the_most_expensive}\\nAmount of books released in 2012 with 'Fiction' genre: {fiction_amount}\\nAmount of books with 4.9 user rating released in 2010/2011: {amount_of_books_2010_2012}\")"
   ]
  },
  {
   "cell_type": "code",
   "execution_count": 9,
   "id": "beb6c7ec-bca7-4004-a943-84855887cfbd",
   "metadata": {},
   "outputs": [
    {
     "data": {
      "text/html": [
       "<div>\n",
       "<style scoped>\n",
       "    .dataframe tbody tr th:only-of-type {\n",
       "        vertical-align: middle;\n",
       "    }\n",
       "\n",
       "    .dataframe tbody tr th {\n",
       "        vertical-align: top;\n",
       "    }\n",
       "\n",
       "    .dataframe thead th {\n",
       "        text-align: right;\n",
       "    }\n",
       "</style>\n",
       "<table border=\"1\" class=\"dataframe\">\n",
       "  <thead>\n",
       "    <tr style=\"text-align: right;\">\n",
       "      <th></th>\n",
       "      <th>min</th>\n",
       "      <th>max</th>\n",
       "    </tr>\n",
       "    <tr>\n",
       "      <th>genre</th>\n",
       "      <th></th>\n",
       "      <th></th>\n",
       "    </tr>\n",
       "  </thead>\n",
       "  <tbody>\n",
       "    <tr>\n",
       "      <th>Fiction</th>\n",
       "      <td>0</td>\n",
       "      <td>82</td>\n",
       "    </tr>\n",
       "    <tr>\n",
       "      <th>Non Fiction</th>\n",
       "      <td>0</td>\n",
       "      <td>105</td>\n",
       "    </tr>\n",
       "  </tbody>\n",
       "</table>\n",
       "</div>"
      ],
      "text/plain": [
       "             min  max\n",
       "genre                \n",
       "Fiction        0   82\n",
       "Non Fiction    0  105"
      ]
     },
     "execution_count": 9,
     "metadata": {},
     "output_type": "execute_result"
    }
   ],
   "source": [
    "df.groupby(\"genre\")[\"price\"].agg([min, max])"
   ]
  }
 ],
 "metadata": {
  "kernelspec": {
   "display_name": "Python 3 (ipykernel)",
   "language": "python",
   "name": "python3"
  },
  "language_info": {
   "codemirror_mode": {
    "name": "ipython",
    "version": 3
   },
   "file_extension": ".py",
   "mimetype": "text/x-python",
   "name": "python",
   "nbconvert_exporter": "python",
   "pygments_lexer": "ipython3",
   "version": "3.11.5"
  }
 },
 "nbformat": 4,
 "nbformat_minor": 5
}
