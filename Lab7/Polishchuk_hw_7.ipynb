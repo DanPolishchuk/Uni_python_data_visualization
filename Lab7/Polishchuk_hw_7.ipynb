{
 "cells": [
  {
   "cell_type": "code",
   "execution_count": 70,
   "id": "96215af1-4469-41e5-8a69-eee239e5d753",
   "metadata": {},
   "outputs": [],
   "source": [
    "import pandas as pd\n",
    "from pyspark.sql import SparkSession\n",
    "from pyspark.sql.functions import col, mean, when, max, min\n",
    "from pyspark.sql.types import FloatType\n",
    "from pyspark.ml.stat import Correlation\n",
    "from pyspark.sql import functions as F\n",
    "import matplotlib.pyplot as plt\n",
    "import seaborn as sns\n",
    "from pyspark.ml.feature import VectorAssembler\n",
    "\n",
    "spark = SparkSession.builder.appName(\"AmazonBooksAnalysis\").getOrCreate()"
   ]
  },
  {
   "cell_type": "code",
   "execution_count": 33,
   "id": "df52965d-ebf6-4f4b-9399-9ebab047819d",
   "metadata": {},
   "outputs": [
    {
     "name": "stdout",
     "output_type": "stream",
     "text": [
      "+--------------------+--------------------+-----------+-------+-----+----+-----------+\n",
      "|                Name|              Author|User Rating|Reviews|Price|Year|      Genre|\n",
      "+--------------------+--------------------+-----------+-------+-----+----+-----------+\n",
      "|10-Day Green Smoo...|            JJ Smith|        4.7|  17350|    8|2016|Non Fiction|\n",
      "|   11/22/63: A Novel|        Stephen King|        4.6|   2052|   22|2011|    Fiction|\n",
      "|12 Rules for Life...|  Jordan B. Peterson|        4.7|  18979|   15|2018|Non Fiction|\n",
      "|1984 (Signet Clas...|       George Orwell|        4.7|  21424|    6|2017|    Fiction|\n",
      "|5,000 Awesome Fac...|National Geograph...|        4.8|   7665|   12|2019|Non Fiction|\n",
      "|A Dance with Drag...| George R. R. Martin|        4.4|  12643|   11|2011|    Fiction|\n",
      "|A Game of Thrones...| George R. R. Martin|        4.7|  19735|   30|2014|    Fiction|\n",
      "|A Gentleman in Mo...|         Amor Towles|        4.7|  19699|   15|2017|    Fiction|\n",
      "|A Higher Loyalty:...|         James Comey|        4.7|   5983|    3|2018|Non Fiction|\n",
      "|A Man Called Ove:...|     Fredrik Backman|        4.6|  23848|    8|2016|    Fiction|\n",
      "|A Man Called Ove:...|     Fredrik Backman|        4.6|  23848|    8|2017|    Fiction|\n",
      "|A Patriot's Histo...|    Larry Schweikart|        4.6|    460|    2|2010|Non Fiction|\n",
      "|A Stolen Life: A ...|       Jaycee Dugard|        4.6|   4149|   32|2011|Non Fiction|\n",
      "|A Wrinkle in Time...|   Madeleine L'Engle|        4.5|   5153|    5|2018|    Fiction|\n",
      "|Act Like a Lady, ...|        Steve Harvey|        4.6|   5013|   17|2009|Non Fiction|\n",
      "|Adult Coloring Bo...|Adult Coloring Bo...|        4.5|   2313|    4|2016|Non Fiction|\n",
      "|Adult Coloring Bo...|  Blue Star Coloring|        4.6|   2925|    6|2015|Non Fiction|\n",
      "|Adult Coloring Bo...|  Blue Star Coloring|        4.4|   2951|    6|2015|Non Fiction|\n",
      "|Adult Coloring Bo...|Coloring Books fo...|        4.5|   2426|    8|2015|Non Fiction|\n",
      "|  Alexander Hamilton|         Ron Chernow|        4.8|   9198|   13|2016|Non Fiction|\n",
      "|All the Light We ...|       Anthony Doerr|        4.6|  36348|   14|2014|    Fiction|\n",
      "|All the Light We ...|       Anthony Doerr|        4.6|  36348|   14|2015|    Fiction|\n",
      "|           Allegiant|       Veronica Roth|        3.9|   6310|   13|2013|    Fiction|\n",
      "|American Sniper: ...|          Chris Kyle|        4.6|  15921|    9|2015|Non Fiction|\n",
      "|And the Mountains...|     Khaled Hosseini|        4.3|  12159|   13|2013|    Fiction|\n",
      "|Arguing with Idio...|          Glenn Beck|        4.6|    798|    5|2009|Non Fiction|\n",
      "|Astrophysics for ...| Neil deGrasse Tyson|        4.7|   9374|    9|2017|Non Fiction|\n",
      "|Autobiography of ...|          Mark Twain|        4.2|    491|   14|2010|Non Fiction|\n",
      "|Baby Touch and Fe...|                  DK|        4.6|   5360|    5|2015|Non Fiction|\n",
      "|Balance (Angie's ...|         Angie Grace|        4.6|   1909|   11|2015|Non Fiction|\n",
      "|Barefoot Contessa...|          Ina Garten|        4.8|   1296|   24|2012|Non Fiction|\n",
      "|Barefoot Contessa...|          Ina Garten|        4.7|    615|   21|2010|Non Fiction|\n",
      "|            Becoming|      Michelle Obama|        4.8|  61133|   11|2018|Non Fiction|\n",
      "|            Becoming|      Michelle Obama|        4.8|  61133|   11|2019|Non Fiction|\n",
      "|Being Mortal: Med...|        Atul Gawande|        4.8|  11113|   15|2015|Non Fiction|\n",
      "|Between the World...|    Ta-Nehisi Coates|        4.7|  10070|   13|2015|Non Fiction|\n",
      "|Between the World...|    Ta-Nehisi Coates|        4.7|  10070|   13|2016|Non Fiction|\n",
      "|         Born to Run|   Bruce Springsteen|        4.7|   3729|   18|2016|Non Fiction|\n",
      "|Breaking Dawn (Th...|     Stephenie Meyer|        4.6|   9769|   13|2009|    Fiction|\n",
      "|Broke: The Plan t...|          Glenn Beck|        4.5|    471|    8|2010|Non Fiction|\n",
      "|Brown Bear, Brown...|     Bill Martin Jr.|        4.9|  14344|    5|2017|    Fiction|\n",
      "|Brown Bear, Brown...|     Bill Martin Jr.|        4.9|  14344|    5|2019|    Fiction|\n",
      "|Cabin Fever (Diar...|         Jeff Kinney|        4.8|   4505|    0|2011|    Fiction|\n",
      "|Calm the F*ck Dow...|        Sasha O'Hara|        4.6|  10369|    4|2016|Non Fiction|\n",
      "|Can't Hurt Me: Ma...|       David Goggins|        4.8|  16244|   18|2019|Non Fiction|\n",
      "|Capital in the Tw...|      Thomas Piketty|        4.5|   2884|   28|2014|Non Fiction|\n",
      "|Catching Fire (Th...|     Suzanne Collins|        4.7|  22614|   11|2010|    Fiction|\n",
      "|Catching Fire (Th...|     Suzanne Collins|        4.7|  22614|   11|2011|    Fiction|\n",
      "|Catching Fire (Th...|     Suzanne Collins|        4.7|  22614|   11|2012|    Fiction|\n",
      "|Cravings: Recipes...|      Chrissy Teigen|        4.7|   4761|   16|2016|Non Fiction|\n",
      "|Crazy Love: Overw...|        Francis Chan|        4.7|   1542|   14|2009|Non Fiction|\n",
      "|Crazy Love: Overw...|        Francis Chan|        4.7|   1542|   14|2010|Non Fiction|\n",
      "|Crazy Love: Overw...|        Francis Chan|        4.7|   1542|   14|2011|Non Fiction|\n",
      "|Crazy Rich Asians...|          Kevin Kwan|        4.3|   6143|    8|2018|    Fiction|\n",
      "|Creative Haven Cr...|     Marjorie Sarnat|        4.8|   4022|    4|2015|Non Fiction|\n",
      "|Creative Haven Ow...|     Marjorie Sarnat|        4.8|   3871|    5|2015|Non Fiction|\n",
      "|   Cutting for Stone|    Abraham Verghese|        4.6|   4866|   11|2010|    Fiction|\n",
      "|   Cutting for Stone|    Abraham Verghese|        4.6|   4866|   11|2011|    Fiction|\n",
      "|Daring Greatly: H...|        Brené Brown|        4.8|   1329|   10|2013|Non Fiction|\n",
      "|David and Goliath...|    Malcolm Gladwell|        4.4|   4642|   13|2013|Non Fiction|\n",
      "|Dead And Gone: A ...|    Charlaine Harris|        4.6|   1541|    4|2009|    Fiction|\n",
      "|Dead in the Famil...|    Charlaine Harris|        4.3|   1924|    8|2010|    Fiction|\n",
      "|Dead Reckoning (S...|    Charlaine Harris|        4.2|   2094|    4|2011|    Fiction|\n",
      "|Dear Zoo: A Lift-...|        Rod Campbell|        4.8|  10922|    5|2015|    Fiction|\n",
      "|Dear Zoo: A Lift-...|        Rod Campbell|        4.8|  10922|    5|2016|    Fiction|\n",
      "|Dear Zoo: A Lift-...|        Rod Campbell|        4.8|  10922|    5|2017|    Fiction|\n",
      "|Dear Zoo: A Lift-...|        Rod Campbell|        4.8|  10922|    5|2018|    Fiction|\n",
      "|     Decision Points|      George W. Bush|        4.6|   2137|   17|2010|Non Fiction|\n",
      "|Delivering Happin...|          Tony Hsieh|        4.6|   1651|   15|2010|Non Fiction|\n",
      "|Diagnostic and St...|American Psychiat...|        4.5|   6679|  105|2013|Non Fiction|\n",
      "|Diagnostic and St...|American Psychiat...|        4.5|   6679|  105|2014|Non Fiction|\n",
      "|Diary of a Wimpy ...|         Jeff Kinney|        4.8|   6812|    0|2013|    Fiction|\n",
      "|Diary of a Wimpy ...|         Jeff Kinney|        4.8|   3837|   15|2009|    Fiction|\n",
      "|Diary of a Wimpy ...|         Jeff Kinney|        4.8|   6540|   22|2014|    Fiction|\n",
      "|Difficult Riddles...|       M Prefontaine|        4.6|   7955|    5|2019|Non Fiction|\n",
      "|           Divergent|       Veronica Roth|        4.6|  27098|   15|2013|    Fiction|\n",
      "|           Divergent|       Veronica Roth|        4.6|  27098|   15|2014|    Fiction|\n",
      "|Divergent / Insur...|       Veronica Roth|        4.5|  17684|    6|2014|    Fiction|\n",
      "|Divine Soul Mind ...|        Zhi Gang Sha|        4.6|     37|    6|2009|Non Fiction|\n",
      "|Doctor Sleep: A N...|        Stephen King|        4.7|  15845|   13|2013|    Fiction|\n",
      "|Dog Days (Diary o...|         Jeff Kinney|        4.8|   3181|   12|2009|    Fiction|\n",
      "|Dog Man and Cat K...|          Dav Pilkey|        4.9|   5062|    6|2018|    Fiction|\n",
      "|Dog Man: A Tale o...|          Dav Pilkey|        4.9|   4786|    8|2017|    Fiction|\n",
      "|Dog Man: Brawl of...|          Dav Pilkey|        4.9|   7235|    4|2018|    Fiction|\n",
      "|Dog Man: Brawl of...|          Dav Pilkey|        4.9|   7235|    4|2019|    Fiction|\n",
      "|Dog Man: Fetch-22...|          Dav Pilkey|        4.9|  12619|    8|2019|    Fiction|\n",
      "|Dog Man: For Whom...|          Dav Pilkey|        4.9|   9089|    8|2019|    Fiction|\n",
      "|Dog Man: Lord of ...|          Dav Pilkey|        4.9|   5470|    6|2018|    Fiction|\n",
      "|Double Down (Diar...|         Jeff Kinney|        4.8|   5118|   20|2016|    Fiction|\n",
      "|Dover Creative Ha...|         Marty Noble|        4.6|   2134|    5|2015|Non Fiction|\n",
      "|Drive: The Surpri...|      Daniel H. Pink|        4.5|   2525|   16|2010|Non Fiction|\n",
      "|Eat This Not That...|     David Zinczenko|        4.5|    720|    1|2009|Non Fiction|\n",
      "|Eat This, Not Tha...|     David Zinczenko|        4.3|    956|   14|2009|Non Fiction|\n",
      "|Eat to Live: The ...|     Joel Fuhrman MD|        4.5|   6346|    9|2011|Non Fiction|\n",
      "|Eat to Live: The ...|     Joel Fuhrman MD|        4.5|   6346|    9|2012|Non Fiction|\n",
      "|Eclipse (Twilight...|     Stephenie Meyer|        4.7|   5505|    7|2009|    Fiction|\n",
      "|  Eclipse (Twilight)|     Stephenie Meyer|        4.7|   5505|   18|2009|    Fiction|\n",
      "|  Educated: A Memoir|       Tara Westover|        4.7|  28729|   15|2018|Non Fiction|\n",
      "|  Educated: A Memoir|       Tara Westover|        4.7|  28729|   15|2019|Non Fiction|\n",
      "|Enchanted Forest:...|     Johanna Basford|        4.7|   5413|    9|2015|Non Fiction|\n",
      "+--------------------+--------------------+-----------+-------+-----+----+-----------+\n",
      "only showing top 100 rows\n",
      "\n"
     ]
    }
   ],
   "source": [
    "# 1. Прочитайте CSV файл spark.read.csv()\n",
    "\n",
    "amazon_data = spark.read.csv(\"bestsellers with categories.csv\", header=True, inferSchema=True)"
   ]
  },
  {
   "cell_type": "code",
   "execution_count": 6,
   "id": "94c434a2-a689-49f4-9ad0-185b33d38f0d",
   "metadata": {},
   "outputs": [
    {
     "name": "stdout",
     "output_type": "stream",
     "text": [
      "root\n",
      " |-- Name: string (nullable = true)\n",
      " |-- Author: string (nullable = true)\n",
      " |-- User Rating: double (nullable = true)\n",
      " |-- Reviews: integer (nullable = true)\n",
      " |-- Price: integer (nullable = true)\n",
      " |-- Year: integer (nullable = true)\n",
      " |-- Genre: string (nullable = true)\n",
      "\n"
     ]
    }
   ],
   "source": [
    "# 2. Вивести схему даних за допомогою PrintSchema.\n",
    "\n",
    "amazon_data.printSchema()"
   ]
  },
  {
   "cell_type": "code",
   "execution_count": 9,
   "id": "e286207b-21b8-4df8-922b-744858761801",
   "metadata": {},
   "outputs": [
    {
     "data": {
      "text/plain": [
       "[('Name', 'string'),\n",
       " ('Author', 'string'),\n",
       " ('User Rating', 'double'),\n",
       " ('Reviews', 'int'),\n",
       " ('Price', 'int'),\n",
       " ('Year', 'int'),\n",
       " ('Genre', 'string')]"
      ]
     },
     "execution_count": 9,
     "metadata": {},
     "output_type": "execute_result"
    }
   ],
   "source": [
    "# 3. Вивести назви стовпців і типи даних за допомогою dtypes\n",
    "\n",
    "amazon_data.dtypes"
   ]
  },
  {
   "cell_type": "code",
   "execution_count": 11,
   "id": "b197d8c5-7819-4045-9da0-dc0e23a988cb",
   "metadata": {},
   "outputs": [
    {
     "data": {
      "text/plain": [
       "[Row(Name='10-Day Green Smoothie Cleanse', Author='JJ Smith', User Rating=4.7, Reviews=17350, Price=8, Year=2016, Genre='Non Fiction'),\n",
       " Row(Name='11/22/63: A Novel', Author='Stephen King', User Rating=4.6, Reviews=2052, Price=22, Year=2011, Genre='Fiction'),\n",
       " Row(Name='12 Rules for Life: An Antidote to Chaos', Author='Jordan B. Peterson', User Rating=4.7, Reviews=18979, Price=15, Year=2018, Genre='Non Fiction'),\n",
       " Row(Name='1984 (Signet Classics)', Author='George Orwell', User Rating=4.7, Reviews=21424, Price=6, Year=2017, Genre='Fiction'),\n",
       " Row(Name='5,000 Awesome Facts (About Everything!) (National Geographic Kids)', Author='National Geographic Kids', User Rating=4.8, Reviews=7665, Price=12, Year=2019, Genre='Non Fiction')]"
      ]
     },
     "execution_count": 11,
     "metadata": {},
     "output_type": "execute_result"
    }
   ],
   "source": [
    "# 4. Виведіть перші п'ять рядків (використовується метод head)\n",
    "\n",
    "amazon_data.head(5)"
   ]
  },
  {
   "cell_type": "code",
   "execution_count": 12,
   "id": "a60d117b-1e64-4cbc-9e6d-41359552a2ab",
   "metadata": {},
   "outputs": [
    {
     "data": {
      "text/plain": [
       "Row(Name='10-Day Green Smoothie Cleanse', Author='JJ Smith', User Rating=4.7, Reviews=17350, Price=8, Year=2016, Genre='Non Fiction')"
      ]
     },
     "execution_count": 12,
     "metadata": {},
     "output_type": "execute_result"
    }
   ],
   "source": [
    "# 5. Вивести перший рядок за допомогою first()\n",
    "\n",
    "amazon_data.first()"
   ]
  },
  {
   "cell_type": "code",
   "execution_count": 13,
   "id": "f509e9a4-0024-4ef8-85ad-95c72ca71972",
   "metadata": {},
   "outputs": [
    {
     "data": {
      "text/plain": [
       "DataFrame[summary: string, Name: string, Author: string, User Rating: string, Reviews: string, Price: string, Year: string, Genre: string]"
      ]
     },
     "execution_count": 13,
     "metadata": {},
     "output_type": "execute_result"
    }
   ],
   "source": [
    "# 6. Зробіть опис датасету за допомогою describe()\n",
    "\n",
    "amazon_data.describe()"
   ]
  },
  {
   "cell_type": "code",
   "execution_count": 15,
   "id": "1ea7e4d7-1c47-40cc-94d3-7ae7854bf6d3",
   "metadata": {},
   "outputs": [
    {
     "data": {
      "text/plain": [
       "['Name', 'Author', 'User Rating', 'Reviews', 'Price', 'Year', 'Genre']"
      ]
     },
     "execution_count": 15,
     "metadata": {},
     "output_type": "execute_result"
    }
   ],
   "source": [
    "# 7. Виведіть список стовпців за допомогою columns()\n",
    "\n",
    "amazon_data.columns"
   ]
  },
  {
   "cell_type": "code",
   "execution_count": 16,
   "id": "6785004b-5d2b-4ba9-ad89-23e0254f9c4f",
   "metadata": {},
   "outputs": [
    {
     "data": {
      "text/plain": [
       "550"
      ]
     },
     "execution_count": 16,
     "metadata": {},
     "output_type": "execute_result"
    }
   ],
   "source": [
    "# 8.  Виведіть загальну кількість рядків даних за допомогою count()\n",
    "\n",
    "amazon_data.count()"
   ]
  },
  {
   "cell_type": "code",
   "execution_count": 24,
   "id": "631de1ee-1854-426b-9155-d1fe57e4b7f8",
   "metadata": {},
   "outputs": [
    {
     "name": "stdout",
     "output_type": "stream",
     "text": [
      "There are no missing values in the DataFrame.\n"
     ]
    }
   ],
   "source": [
    "# 9. Перевірте, чи у всіх рядків вистачає даних. Якщо є пропуски, замінить \n",
    "# їх на NaN, потім тип даних на числовий.\n",
    "\n",
    "if amazon_data.dropna().count() == amazon_data.count():\n",
    "    print(\"There are no missing values in the DataFrame.\")\n",
    "else:\n",
    "    print(\"There were missing values in the DataFrame.\")\n"
   ]
  },
  {
   "cell_type": "code",
   "execution_count": 34,
   "id": "d55ecc29-573d-4c46-8f89-25b9bcd091eb",
   "metadata": {},
   "outputs": [
    {
     "name": "stdout",
     "output_type": "stream",
     "text": [
      "\n",
      "The dataset contains information about 550 books.\n"
     ]
    }
   ],
   "source": [
    "# 10. Замініть комірки з пропущеними значенями на середні за стовпцем. І тип даних на float.\n",
    "# Про скільки книг зберігає дані датасет?\n",
    "\n",
    "# пропусків немає\n",
    "\n",
    "num_books = amazon_data.count()\n",
    "print(f\"\\nThe dataset contains information about {num_books} books.\")"
   ]
  },
  {
   "cell_type": "code",
   "execution_count": 36,
   "id": "39d2c7c6-1bff-40ea-86d3-70e9b74dfe2f",
   "metadata": {},
   "outputs": [
    {
     "name": "stdout",
     "output_type": "stream",
     "text": [
      "+--------------------+--------------------+-----------+-------+-----+----+-----------+\n",
      "|                name|              author|user_rating|reviews|price|year|      genre|\n",
      "+--------------------+--------------------+-----------+-------+-----+----+-----------+\n",
      "|10-Day Green Smoo...|            JJ Smith|        4.7|  17350|    8|2016|Non Fiction|\n",
      "|   11/22/63: A Novel|        Stephen King|        4.6|   2052|   22|2011|    Fiction|\n",
      "|12 Rules for Life...|  Jordan B. Peterson|        4.7|  18979|   15|2018|Non Fiction|\n",
      "|1984 (Signet Clas...|       George Orwell|        4.7|  21424|    6|2017|    Fiction|\n",
      "|5,000 Awesome Fac...|National Geograph...|        4.8|   7665|   12|2019|Non Fiction|\n",
      "+--------------------+--------------------+-----------+-------+-----+----+-----------+\n",
      "only showing top 5 rows\n",
      "\n"
     ]
    }
   ],
   "source": [
    "# 11. Змініть назви всіх колонок: назва з маленької букви, без пробілів через підкреслення.\n",
    "# 12. df.columns = ['name', 'author', 'user_rating', 'reviews', 'price', 'year', 'genre']\n",
    "\n",
    "new_column_names = [col(column).alias(column.lower().replace(' ', '_')) for column in amazon_data.columns]\n",
    "amazon_data = amazon_data.select(*new_column_names)\n",
    "\n",
    "amazon_data.show(5)"
   ]
  },
  {
   "cell_type": "code",
   "execution_count": 41,
   "id": "149b47d7-b43c-45df-8bf6-f3b62e0f8fc9",
   "metadata": {},
   "outputs": [
    {
     "name": "stdout",
     "output_type": "stream",
     "text": [
      "+-----------+----------+\n",
      "|     author|max_rating|\n",
      "+-----------+----------+\n",
      "|Sarah Young|       4.9|\n",
      "+-----------+----------+\n",
      "\n"
     ]
    }
   ],
   "source": [
    "# 13. Знайдіть автора з найвищим рейтингом.\n",
    "\n",
    "best_author = (\n",
    "    amazon_data\n",
    "    .groupBy(\"author\")\n",
    "    .agg(max(\"user_rating\").alias(\"max_rating\"))\n",
    "    .orderBy(col(\"max_rating\").desc())\n",
    "    .limit(1)\n",
    ")\n",
    "\n",
    "best_author.show()"
   ]
  },
  {
   "cell_type": "code",
   "execution_count": 45,
   "id": "4f6a6f72-a429-41c6-8e03-6d535c13fe4b",
   "metadata": {},
   "outputs": [
    {
     "name": "stdout",
     "output_type": "stream",
     "text": [
      "+------------+----------+\n",
      "|      author|min_rating|\n",
      "+------------+----------+\n",
      "|J.K. Rowling|       3.3|\n",
      "+------------+----------+\n",
      "\n"
     ]
    }
   ],
   "source": [
    "# 14. Знайдіть автора з найнижчим рейтингом.\n",
    "\n",
    "worst_author = (\n",
    "    amazon_data\n",
    "    .groupBy(\"author\")\n",
    "    .agg(min(\"user_rating\").alias(\"min_rating\"))\n",
    "    .orderBy(col(\"min_rating\").asc())\n",
    "    .limit(1)\n",
    ")\n",
    "\n",
    "worst_author.show()"
   ]
  },
  {
   "cell_type": "code",
   "execution_count": 49,
   "id": "3f3bb8c7-d2df-4c68-8eaa-9623fc41fd9c",
   "metadata": {},
   "outputs": [
    {
     "name": "stdout",
     "output_type": "stream",
     "text": [
      "+-----------+-----------+\n",
      "|     author|max_reviews|\n",
      "+-----------+-----------+\n",
      "|Delia Owens|      87841|\n",
      "+-----------+-----------+\n",
      "\n"
     ]
    }
   ],
   "source": [
    "# 15. Знайдіть автора, що має найбільшу кількіть рецензій.\n",
    "\n",
    "max_reviews = (\n",
    "    amazon_data\n",
    "    .groupBy(\"author\")\n",
    "    .agg(max(\"reviews\").alias(\"max_reviews\"))\n",
    "    .orderBy(col(\"max_reviews\").desc())\n",
    "    .limit(1)\n",
    ")\n",
    "\n",
    "max_reviews.show()"
   ]
  },
  {
   "cell_type": "code",
   "execution_count": 61,
   "id": "bb29cb67-f5c4-42c6-b02a-ea0be95378b9",
   "metadata": {},
   "outputs": [
    {
     "data": {
      "image/png": "[encoded data removed]",
      "text/plain": [
       "<Figure size 1000x600 with 1 Axes>"
      ]
     },
     "metadata": {},
     "output_type": "display_data"
    }
   ],
   "source": [
    "# 16. Побудуйте гістограму рейтингу 10 найкращих книг (відібрати книги з найбільшим рейтингом).\n",
    "\n",
    "top_10_books = (\n",
    "    amazon_data\n",
    "    .orderBy(col(\"user_rating\").desc())\n",
    "    .limit(10)\n",
    ")\n",
    "\n",
    "top_10_books_pd = top_10_books.toPandas()\n",
    "\n",
    "plt.figure(figsize=(10, 6))\n",
    "sns.histplot(top_10_books_pd['user_rating'], bins=10, kde=True, color='skyblue')\n",
    "plt.title('Histogram of Ratings for Top 10 Books')\n",
    "plt.xlabel('Rating')\n",
    "plt.ylabel('Frequency')\n",
    "plt.show()\n"
   ]
  },
  {
   "cell_type": "code",
   "execution_count": 72,
   "id": "31c87bde-6de5-4c5b-ba17-482a0bf0d513",
   "metadata": {},
   "outputs": [
    {
     "data": {
      "image/png": "[encoded data removed]",
      "text/plain": [
       "<Figure size 1600x500 with 2 Axes>"
      ]
     },
     "metadata": {},
     "output_type": "display_data"
    }
   ],
   "source": [
    "# 17. Побудуйте матрицю кореляції для стовпчиків 'user_rating', 'reviews', 'price'.\n",
    "\n",
    "desired_columns = ['user_rating', 'reviews', 'price']\n",
    "selected_data = amazon_data.select(desired_columns)\n",
    "\n",
    "assembler = VectorAssembler(inputCols=desired_columns, outputCol=\"features\")\n",
    "selected_data = assembler.transform(selected_data)\n",
    "\n",
    "matrix = Correlation.corr(selected_data, 'features').collect()[0][0]\n",
    "corr_matrix = matrix.toArray().tolist()\n",
    "\n",
    "corr_matrix_df = pd.DataFrame(data=corr_matrix, columns=desired_columns, index=desired_columns)\n",
    "\n",
    "for col in numeric_variables:\n",
    "    corr_matrix_df[col] = corr_matrix_df[col].astype(float)\n",
    "\n",
    "plt.figure(figsize=(16, 5))\n",
    "sns.heatmap(corr_matrix_df, \n",
    "            xticklabels=corr_matrix_df.columns.values,\n",
    "            yticklabels=corr_matrix_df.columns.values, cmap=\"Greens\", annot=True)\n",
    "plt.show()"
   ]
  },
  {
   "cell_type": "code",
   "execution_count": null,
   "id": "744b09e4-1dfa-426d-83bc-73f99b967748",
   "metadata": {},
   "outputs": [],
   "source": []
  }
 ],
 "metadata": {
  "kernelspec": {
   "display_name": "Python 3 (ipykernel)",
   "language": "python",
   "name": "python3"
  },
  "language_info": {
   "codemirror_mode": {
    "name": "ipython",
    "version": 3
   },
   "file_extension": ".py",
   "mimetype": "text/x-python",
   "name": "python",
   "nbconvert_exporter": "python",
   "pygments_lexer": "ipython3",
   "version": "3.11.6"
  }
 },
 "nbformat": 4,
 "nbformat_minor": 5
}
